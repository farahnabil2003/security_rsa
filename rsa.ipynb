{
 "cells": [
  {
   "cell_type": "markdown",
   "id": "52a7f490",
   "metadata": {},
   "source": [
    "# Import Required Libraries"
   ]
  },
  {
   "cell_type": "code",
   "execution_count": 21,
   "id": "246d3e21",
   "metadata": {},
   "outputs": [],
   "source": [
    "import random\n",
    "from sympy import isprime, mod_inverse, gcd"
   ]
  },
  {
   "cell_type": "markdown",
   "id": "6e52aa00",
   "metadata": {},
   "source": [
    "# Prime Number Generation"
   ]
  },
  {
   "cell_type": "code",
   "execution_count": 22,
   "id": "821d67a1",
   "metadata": {},
   "outputs": [],
   "source": [
    "def generate_large_prime(bits):\n",
    "    while True:\n",
    "        num = random.getrandbits(bits)  # Generate a random number with 'bits' bits\n",
    "        if isprime(num):  # Check if the generated number is a prime number\n",
    "            return num  # Return the prime number\n"
   ]
  },
  {
   "cell_type": "markdown",
   "id": "6cfd40c4",
   "metadata": {},
   "source": [
    "# Key Generation"
   ]
  },
  {
   "cell_type": "code",
   "execution_count": 23,
   "id": "2ea72708",
   "metadata": {},
   "outputs": [],
   "source": [
    "def generate_keys(bits=1024):\n",
    "    p = generate_large_prime(bits)  # Generate a large prime number p\n",
    "    q = generate_large_prime(bits)  # Generate a large prime number q\n",
    "    \n",
    "    n = p * q  # Calculate n = p * q\n",
    "    phi = (p - 1) * (q - 1)  # Calculate the totient function phi = (p - 1) * (q - 1)\n",
    "    \n",
    "    # Choose e randomly between 1 and phi\n",
    "    while True:\n",
    "        e = random.randrange(1, phi)  # Randomly choose e in the range [1, phi)\n",
    "        if gcd(e, phi) == 1:  # Ensure e and phi are coprime\n",
    "            break  # Exit the loop if they are coprime\n",
    "    \n",
    "    d = mod_inverse(e, phi)  # Calculate the modular inverse of e modulo phi\n",
    "    \n",
    "    return ((e, n), (d, n))  # Return the public key (e, n) and private key (d, n)\n"
   ]
  },
  {
   "cell_type": "markdown",
   "id": "d92d8402",
   "metadata": {},
   "source": [
    "# Encryption"
   ]
  },
  {
   "cell_type": "code",
   "execution_count": 24,
   "id": "2fabb04e",
   "metadata": {},
   "outputs": [],
   "source": [
    "def encrypt(plaintext, public_key):\n",
    "    e, n = public_key  # Unpack the public key\n",
    "    plaintext_bytes = plaintext.encode('utf-8')  # Convert plaintext to bytes\n",
    "    plaintext_int = int.from_bytes(plaintext_bytes, byteorder='big')  # Convert bytes to integer\n",
    "    ciphertext_int = pow(plaintext_int, e, n)  # Perform modular exponentiation\n",
    "    return ciphertext_int  # Return the ciphertext as an integer\n"
   ]
  },
  {
   "cell_type": "markdown",
   "id": "ff8ca440",
   "metadata": {},
   "source": [
    "# Decryption"
   ]
  },
  {
   "cell_type": "code",
   "execution_count": 25,
   "id": "c529bf22",
   "metadata": {},
   "outputs": [],
   "source": [
    "def decrypt(ciphertext, private_key):\n",
    "    # Unpack the private key tuple into d (private exponent) and n (modulus)\n",
    "    d, n = private_key\n",
    "    \n",
    "    # Decrypt the ciphertext using modular exponentiation\n",
    "    plaintext_int = pow(ciphertext, d, n)\n",
    "    \n",
    "    # Convert the decrypted integer into bytes\n",
    "    # Calculate the number of bytes needed based on the bit length of the integer\n",
    "    # Convert the integer to bytes using big-endian byte order\n",
    "    plaintext_bytes = plaintext_int.to_bytes((plaintext_int.bit_length() + 7) // 8, byteorder='big')\n",
    "    \n",
    "    # Try to decode the bytes into a UTF-8 string\n",
    "    try:\n",
    "        # If successful, return the decoded plaintext string\n",
    "        return plaintext_bytes.decode('utf-8')\n",
    "    # Handle the case where decoding fails due to invalid byte sequences\n",
    "    except UnicodeDecodeError:\n",
    "        # Return the decrypted integer representation if decoding fails\n",
    "        return plaintext_int\n"
   ]
  },
  {
   "cell_type": "markdown",
   "id": "a60d59c1",
   "metadata": {},
   "source": [
    "# Putting It All Together"
   ]
  },
  {
   "cell_type": "code",
   "execution_count": 26,
   "id": "24b1cafd",
   "metadata": {},
   "outputs": [
    {
     "name": "stdout",
     "output_type": "stream",
     "text": [
      "Enter the message to encrypt: farah\n",
      "Original Message: farah\n",
      "Encrypted Message: 23543286258720972048859101058671368301675671054507220061733832833964216625404371806071864094974405014792282462915460794530862170988737272215612557938355000959597652703786424942405473386885330825681196539081393589032502872718403567431793287717308111170543603803881992116407383011437961893137018101960849182434\n",
      "Decrypted Message: farah\n"
     ]
    }
   ],
   "source": [
    "def main():\n",
    "    # Generate public and private keys\n",
    "    public_key, private_key = generate_keys(bits=512)\n",
    "    \n",
    "    # Get message from user\n",
    "    message = input(\"Enter the message to encrypt: \")  # Prompt the user for input\n",
    "    print(\"Original Message:\", message)  # Print the original message\n",
    "    \n",
    "    # Encrypt the message\n",
    "    encrypted_message = encrypt(message, public_key)  # Encrypt the message using the public key\n",
    "    print(\"Encrypted Message:\", encrypted_message)  # Print the encrypted message\n",
    "    \n",
    "    # Decrypt the message\n",
    "    decrypted_message = decrypt(encrypted_message, private_key)  # Decrypt the message using the private key\n",
    "    print(\"Decrypted Message:\", decrypted_message)  # Print the decrypted message\n",
    "\n",
    "if __name__ == \"__main__\":\n",
    "    main()  # Call the main function if this script is executed\n"
   ]
  },
  {
   "cell_type": "markdown",
   "id": "e7e54ed0",
   "metadata": {},
   "source": [
    "# Double Encryption"
   ]
  },
  {
   "cell_type": "code",
   "execution_count": 27,
   "id": "390125a5",
   "metadata": {},
   "outputs": [],
   "source": [
    "def double_encrypt(plaintext, sender_private_key, receiver_public_key):\n",
    "    \"\"\"\n",
    "    Encrypts the plaintext first with the sender's private key, then with the receiver's public key.\n",
    "    \"\"\"\n",
    "    first_encryption = encrypt(plaintext, sender_private_key)  # Encrypt the plaintext with the sender's private key\n",
    "    double_encryption = encrypt(str(first_encryption), receiver_public_key)  # Encrypt the result with the receiver's public key\n",
    "    return double_encryption  # Return the double encrypted message\n"
   ]
  },
  {
   "cell_type": "markdown",
   "id": "23e2713d",
   "metadata": {},
   "source": [
    "# Double Decryption"
   ]
  },
  {
   "cell_type": "code",
   "execution_count": 28,
   "id": "76d2b264",
   "metadata": {},
   "outputs": [],
   "source": [
    "def double_decrypt(ciphertext, receiver_private_key, sender_public_key):\n",
    "    \"\"\"\n",
    "    Decrypts the ciphertext first with the receiver's private key, then with the sender's public key.\n",
    "    \"\"\"\n",
    "    # Decrypt the ciphertext with the receiver's private key\n",
    "    first_decryption = decrypt(ciphertext, receiver_private_key)\n",
    "\n",
    "    # Check if the result of the first decryption is a string\n",
    "    if isinstance(first_decryption, str):\n",
    "        # If it's a string, remove non-digit characters and convert to an integer\n",
    "        first_decryption_int = int(''.join(filter(str.isdigit, first_decryption)))\n",
    "    else:\n",
    "        # If it's already an integer, use it directly\n",
    "        first_decryption_int = first_decryption\n",
    "\n",
    "    # Decrypt the integer result of the first decryption with the sender's public key\n",
    "    double_decryption = decrypt(first_decryption_int, sender_public_key)\n",
    "\n",
    "    # Return the final decrypted message\n",
    "    return double_decryption\n"
   ]
  },
  {
   "cell_type": "markdown",
   "id": "d79b5da4",
   "metadata": {},
   "source": [
    "#  Putting It All Together"
   ]
  },
  {
   "cell_type": "code",
   "execution_count": 29,
   "id": "58c487d9",
   "metadata": {
    "scrolled": true
   },
   "outputs": [
    {
     "name": "stdout",
     "output_type": "stream",
     "text": [
      "Enter the message to encrypt: farah\n",
      "Original Message: farah\n",
      "Double Encrypted Message: 99065940721691397498380719656665333698210203280315285730742003487028909555327070592000107368761246840817626692470550549238621207739017985233896885729708458193138057913296542149130438760724822739336265471538169936632357493471344179448605983305771959579877692484475234986383353803506985704801825205518256354616\n",
      "Double Decrypted Message: 4833175881105169871927187952582872038422726739822746372544105128982521430693548398277555563801101754265890129026871157807643554380481669457810119327221358711663499306132309514651897952243089191725920605740776585771808619543554833468188962830633941859797839956448594616311499241855309616128814027877558392308\n"
     ]
    }
   ],
   "source": [
    "def main():\n",
    "    # Generate public and private keys for both sender and receiver\n",
    "    sender_public_key, sender_private_key = generate_keys(bits=512)\n",
    "    receiver_public_key, receiver_private_key = generate_keys(bits=512)\n",
    "    \n",
    "    # Get message from user\n",
    "    message = input(\"Enter the message to encrypt: \")\n",
    "    print(\"Original Message:\", message)\n",
    "    \n",
    "    # Double encrypt the message\n",
    "    encrypted_message = double_encrypt(message, sender_private_key, receiver_public_key)\n",
    "    print(\"Double Encrypted Message:\", encrypted_message)\n",
    "    \n",
    "    # Double decrypt the message\n",
    "    decrypted_message = double_decrypt(encrypted_message, receiver_private_key, sender_public_key)\n",
    "    print(\"Double Decrypted Message:\", decrypted_message)\n",
    "\n",
    "if __name__ == \"__main__\":\n",
    "    main()"
   ]
  },
  {
   "cell_type": "code",
   "execution_count": null,
   "id": "310c6938",
   "metadata": {},
   "outputs": [],
   "source": []
  }
 ],
 "metadata": {
  "kernelspec": {
   "display_name": "Python 3 (ipykernel)",
   "language": "python",
   "name": "python3"
  },
  "language_info": {
   "codemirror_mode": {
    "name": "ipython",
    "version": 3
   },
   "file_extension": ".py",
   "mimetype": "text/x-python",
   "name": "python",
   "nbconvert_exporter": "python",
   "pygments_lexer": "ipython3",
   "version": "3.11.5"
  }
 },
 "nbformat": 4,
 "nbformat_minor": 5
}
